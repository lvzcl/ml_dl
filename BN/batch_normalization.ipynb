{
 "cells": [
  {
   "cell_type": "code",
   "execution_count": 2,
   "metadata": {
    "collapsed": true
   },
   "outputs": [],
   "source": [
    "import tensorflow as tf\n",
    "from tensorflow.examples.tutorials.mnist import input_data\n",
    "import numpy as np\n",
    "import matplotlib.pyplot as plt\n",
    "import pickle\n",
    "from tqdm import tqdm"
   ]
  },
  {
   "cell_type": "code",
   "execution_count": 40,
   "metadata": {},
   "outputs": [
    {
     "name": "stdout",
     "output_type": "stream",
     "text": [
      "Extracting ../gan/MNIST_data/train-images-idx3-ubyte.gz\n",
      "Extracting ../gan/MNIST_data/train-labels-idx1-ubyte.gz\n",
      "Extracting ../gan/MNIST_data/t10k-images-idx3-ubyte.gz\n",
      "Extracting ../gan/MNIST_data/t10k-labels-idx1-ubyte.gz\n"
     ]
    }
   ],
   "source": [
    "mnist = input_data.read_data_sets('../gan/MNIST_data/', one_hot=True)"
   ]
  },
  {
   "cell_type": "code",
   "execution_count": 61,
   "metadata": {
    "collapsed": true
   },
   "outputs": [],
   "source": [
    "class NeuralNetWork(object):\n",
    "    def __init__(self, initial_weights, activation_fn, use_batch_normal):\n",
    "        self.use_batch_normal = use_batch_normal\n",
    "        self.name = 'With Batch Normal' if use_batch_normal else \"Without Batch Normal\"\n",
    "        self.is_training = tf.placeholder(tf.bool, name='is_training')\n",
    "        self.training_accuracy = []\n",
    "        self.build_network(initial_weights, activation_fn)\n",
    "    \n",
    "    def build_network(self, initial_weights, activation_fn):\n",
    "        self.input_layer = tf.placeholder(tf.float32, shape=(None, initial_weights[0].shape[0]))\n",
    "        layer_in = self.input_layer\n",
    "        #不计入输出层\n",
    "        for layer_weights in initial_weights[:-1]:\n",
    "            layer_in = self.fully_connected_layer(layer_in, layer_weights, activation_fn)\n",
    "        #计算输出层\n",
    "        self.output_layer = self.fully_connected_layer(layer_in, initial_weights[-1])\n",
    "        \n",
    "    def fully_connected_layer(self, inputs, layer_weights, activation_fn=None):\n",
    "        if self.use_batch_normal and activation_fn:\n",
    "            weights = tf.Variable(layer_weights)\n",
    "            linear_ouput = tf.matmul(inputs, weights)\n",
    "            batch_output = tf.layers.batch_normalization(linear_ouput, training=self.is_training)\n",
    "            return activation_fn(batch_output)\n",
    "        else:\n",
    "            weights = tf.Variable(layer_weights)\n",
    "            bias = tf.Variable(tf.zeros(layer_weights.shape[-1]))\n",
    "            linear_ouput = tf.add(tf.matmul(inputs, weights), bias)\n",
    "            return activation_fn(linear_ouput) if activation_fn else linear_ouput\n",
    "    \n",
    "    def train(self, sess, learning_rate, train_batches, valid_batches, save_model=None):\n",
    "        labels = tf.placeholder(tf.float32, shape=[None, 10])\n",
    "        cross_entropy = tf.nn.sigmoid_cross_entropy_with_logits(labels=labels,logits=self.output_layer)\n",
    "        correct_prediction = tf.equal(tf.argmax(self.output_layer, 1), tf.argmax(labels, 1))\n",
    "        accuracy = tf.reduce_mean(tf.cast(correct_prediction, tf.float32))\n",
    "        \n",
    "        if self.use_batch_normal:\n",
    "            with tf.control_dependencies(tf.get_collection(tf.GraphKeys.UPDATE_OPS)):\n",
    "                optimizer = tf.train.GradientDescentOptimizer(learning_rate).minimize(cross_entropy)\n",
    "        else:\n",
    "            optimizer = tf.train.GradientDescentOptimizer(learning_rate).minimize(cross_entropy)\n",
    "        for i in tqdm(range(train_batches)):\n",
    "            batch_x, batch_y = mnist.train.next_batch(60)\n",
    "            _ = sess.run(optimizer, feed_dict={self.input_layer:batch_x, labels:batch_y, self.is_training:True})\n",
    "            if i % valid_batches == 0:\n",
    "                val_accuracy = sess.run(accuracy, feed_dict={self.input_layer:mnist.validation.images,\n",
    "                                                            labels:mnist.validation.labels,\n",
    "                                                            self.is_training:False})\n",
    "                self.training_accuracy.append(val_accuracy)\n",
    "        print('{}:The final accuracy in validation data is {}'.format(self.name, val_accuracy))\n",
    "        if save_model:\n",
    "            tf.train.Saver().save(sess, save_model)\n",
    "    \n",
    "    def test(self, sess, restore=None):\n",
    "        labels = tf.placeholder(tf.float32, shape=[None,10])\n",
    "        \n",
    "        correct_prediction = tf.equal(tf.argmax(self.output_layer, 1), tf.argmax(labels, 1))\n",
    "        accuracy = tf.reduce_mean(tf.cast(correct_prediction, tf.float32))\n",
    "        \n",
    "        if restore:\n",
    "            tf.train.Saver.restore(sess, restore)\n",
    "        \n",
    "        test_accuracy = sess.run(accuracy, feed_dict={self.input_layer:mnist.test.images,\n",
    "                                                     labels:mnist.test.labels,\n",
    "                                                     self.is_training:False})\n",
    "        print('{} :The final accuracy in test data is {}'.format(self.name, test_accuracy))\n",
    "\n",
    "            "
   ]
  },
  {
   "cell_type": "code",
   "execution_count": 68,
   "metadata": {
    "collapsed": true
   },
   "outputs": [],
   "source": [
    "#接下来构建辅助函数去评测上面的结果\n",
    "def plot_training_accuracies(*args, valid_batches):\n",
    "    \"\"\"\n",
    "    绘制模型在训练过程中的准确率曲线\n",
    "    \n",
    "    :param args: 一个或多个NeuralNetWork对象\n",
    "    :param batches_per_validate_data: 训练多少个batch进行一次数据验证\n",
    "    \"\"\"\n",
    "    fig, ax = plt.subplots()\n",
    "    \n",
    "    for nn in args:\n",
    "        im = ax.plot(range(0, len(nn.training_accuracy)*valid_batches, valid_batches),\n",
    "                nn.training_accuracy, label=nn.name)\n",
    "    ax.set_xlabel('Training steps')\n",
    "    ax.set_ylabel('Accuracy')\n",
    "    ax.set_title('Validation Accuracy During Training')\n",
    "    ax.legend(loc=4)\n",
    "    ax.set_ylim([0,1])\n",
    "    plt.yticks(np.arange(0, 1.1, 0.1))\n",
    "    plt.grid(True)\n",
    "    plt.show()"
   ]
  },
  {
   "cell_type": "code",
   "execution_count": 69,
   "metadata": {},
   "outputs": [],
   "source": [
    "def train_and_test(use_large_weights, activation_fn, learning_rate, train_batches=5000, valid_batches=50):\n",
    "    if use_large_weights:\n",
    "        weights = [np.random.normal(size=(784, 128), scale=10.0).astype(np.float32),\n",
    "                  np.random.normal(size=(128,128), scale=10.0).astype(np.float32),\n",
    "                   np.random.normal(size=(128,128), scale=10.0).astype(np.float32),\n",
    "                   np.random.normal(size=(128,10), scale=10.0).astype(np.float32)]\n",
    "    else:\n",
    "        weights = [np.random.normal(size=(784, 128), scale=0.05).astype(np.float32),\n",
    "                  np.random.normal(size=(128,128), scale=0.05).astype(np.float32),\n",
    "                   np.random.normal(size=(128,128), scale=0.05).astype(np.float32),\n",
    "                   np.random.normal(size=(128,10), scale=0.05).astype(np.float32)]\n",
    "    tf.reset_default_graph()\n",
    "    nn = NeuralNetWork(weights, activation_fn, use_batch_normal=False)\n",
    "    bn = NeuralNetWork(weights, activation_fn, use_batch_normal=True)\n",
    "    with tf.Session() as sess:\n",
    "        tf.global_variables_initializer().run()\n",
    "        print(\"【Training Result:】\\n\")\n",
    "        \n",
    "        nn.train(sess, learning_rate, train_batches, valid_batches)\n",
    "        bn.train(sess, learning_rate, train_batches, valid_batches)\n",
    "        \n",
    "        print(\"\\n【Testing Result:】\\n\")\n",
    "        nn.test(sess)\n",
    "        bn.test(sess)\n",
    "    \n",
    "    plot_training_accuracies(nn, bn, valid_batches=valid_batches)\n",
    "        "
   ]
  },
  {
   "cell_type": "code",
   "execution_count": 70,
   "metadata": {},
   "outputs": [
    {
     "name": "stderr",
     "output_type": "stream",
     "text": [
      "  0%|          | 8/5000 [00:00<01:03, 78.69it/s]"
     ]
    },
    {
     "name": "stdout",
     "output_type": "stream",
     "text": [
      "【Training Result:】\n",
      "\n"
     ]
    },
    {
     "name": "stderr",
     "output_type": "stream",
     "text": [
      "100%|██████████| 5000/5000 [00:19<00:00, 256.37it/s]\n"
     ]
    },
    {
     "name": "stdout",
     "output_type": "stream",
     "text": [
      "Without Batch Normal:The final accuracy in validation data is 0.9751999974250793\n"
     ]
    },
    {
     "name": "stderr",
     "output_type": "stream",
     "text": [
      "100%|██████████| 5000/5000 [00:33<00:00, 150.96it/s]\n"
     ]
    },
    {
     "name": "stdout",
     "output_type": "stream",
     "text": [
      "With Batch Normal:The final accuracy in validation data is 0.9832000136375427\n",
      "\n",
      "【Testing Result:】\n",
      "\n",
      "Without Batch Normal :The final accuracy in test data is 0.9725000262260437\n",
      "With Batch Normal :The final accuracy in test data is 0.9779000282287598\n"
     ]
    },
    {
     "data": {
      "image/png": "[encoded data removed]",
      "text/plain": [
       "<matplotlib.figure.Figure at 0x1a1d316c50>"
      ]
     },
     "metadata": {},
     "output_type": "display_data"
    }
   ],
   "source": [
    "train_and_test(use_large_weights=False, learning_rate=0.01, activation_fn=tf.nn.relu)"
   ]
  },
  {
   "cell_type": "code",
   "execution_count": null,
   "metadata": {},
   "outputs": [],
   "source": []
  },
  {
   "cell_type": "code",
   "execution_count": null,
   "metadata": {
    "collapsed": true
   },
   "outputs": [],
   "source": []
  }
 ],
 "metadata": {
  "kernelspec": {
   "display_name": "Python 3",
   "language": "python",
   "name": "python3"
  },
  "language_info": {
   "codemirror_mode": {
    "name": "ipython",
    "version": 3
   },
   "file_extension": ".py",
   "mimetype": "text/x-python",
   "name": "python",
   "nbconvert_exporter": "python",
   "pygments_lexer": "ipython3",
   "version": "3.6.3"
  }
 },
 "nbformat": 4,
 "nbformat_minor": 2
}
