{
 "cells": [
  {
   "cell_type": "code",
   "execution_count": 76,
   "metadata": {
    "scrolled": true
   },
   "outputs": [],
   "source": [
    "import numpy as np \n",
    "import pandas as pd\n",
    "import tensorflow as tf\n",
    "from tensorflow.python.layers.core import Dense\n"
   ]
  },
  {
   "cell_type": "markdown",
   "metadata": {},
   "source": [
    "## 本次实现的seq2seq模型是给一个单词，让他按照单词顺序输出，也就是让其学习单词排序"
   ]
  },
  {
   "cell_type": "code",
   "execution_count": 77,
   "metadata": {
    "collapsed": true
   },
   "outputs": [],
   "source": [
    "\n",
    "\n",
    "with open('./data/letters_source.txt', 'r') as f:\n",
    "    source_data = f.read()\n",
    "with open('./data/letters_target.txt', 'r') as f: \n",
    "    target_data = f.read()"
   ]
  },
  {
   "cell_type": "code",
   "execution_count": 78,
   "metadata": {},
   "outputs": [
    {
     "data": {
      "text/plain": [
       "['bsaqq',\n",
       " 'npy',\n",
       " 'lbwuj',\n",
       " 'bqv',\n",
       " 'kial',\n",
       " 'tddam',\n",
       " 'edxpjpg',\n",
       " 'nspv',\n",
       " 'huloz',\n",
       " 'kmclq']"
      ]
     },
     "execution_count": 78,
     "metadata": {},
     "output_type": "execute_result"
    }
   ],
   "source": [
    "source_data.split('\\n')[:10]"
   ]
  },
  {
   "cell_type": "code",
   "execution_count": 79,
   "metadata": {},
   "outputs": [
    {
     "data": {
      "text/plain": [
       "['abqqs',\n",
       " 'npy',\n",
       " 'bjluw',\n",
       " 'bqv',\n",
       " 'aikl',\n",
       " 'addmt',\n",
       " 'degjppx',\n",
       " 'npsv',\n",
       " 'hlouz',\n",
       " 'cklmq']"
      ]
     },
     "execution_count": 79,
     "metadata": {},
     "output_type": "execute_result"
    }
   ],
   "source": [
    "target_data.split('\\n')[:10]"
   ]
  },
  {
   "cell_type": "markdown",
   "metadata": {},
   "source": [
    "## 从上面可以看出来，数据都是给处理好的"
   ]
  },
  {
   "cell_type": "code",
   "execution_count": 80,
   "metadata": {
    "collapsed": true
   },
   "outputs": [],
   "source": [
    "def extract_character_vocab(data):\n",
    "    special_word = ['<PAD>', '<UNK>', '<GO>', '<EOS>']\n",
    "    \n",
    "    set_words = list(set([word for line in data.split('\\n') for word in line]))\n",
    "    \n",
    "    int_to_vocab = {i:v for i, v in enumerate(set_words + special_word)}\n",
    "    vocab_to_int = {v:i for i, v in int_to_vocab.items()}\n",
    "    \n",
    "    return int_to_vocab, vocab_to_int"
   ]
  },
  {
   "cell_type": "code",
   "execution_count": 81,
   "metadata": {
    "collapsed": true
   },
   "outputs": [],
   "source": [
    "source_int_to_letter, source_letter_to_int = extract_character_vocab(source_data)\n",
    "target_int_to_letter, target_letter_to_int = extract_character_vocab(target_data)"
   ]
  },
  {
   "cell_type": "code",
   "execution_count": 82,
   "metadata": {
    "collapsed": true
   },
   "outputs": [],
   "source": [
    "#对字母进行转换\n",
    "source_int = [[source_letter_to_int.get(letter, source_letter_to_int['<UNK>']) \n",
    "               for letter in line] for line in source_data.split('\\n')]\n",
    "target_int = [[target_letter_to_int.get(letter, target_letter_to_int['<UNK>']) \n",
    "               for letter in line] + [target_letter_to_int['<EOS>']] for line in target_data.split('\\n')]"
   ]
  },
  {
   "cell_type": "code",
   "execution_count": 83,
   "metadata": {},
   "outputs": [
    {
     "data": {
      "text/plain": [
       "[[1, 11, 8, 23, 23],\n",
       " [18, 20, 25],\n",
       " [4, 1, 12, 6, 0],\n",
       " [1, 23, 17],\n",
       " [21, 9, 8, 4],\n",
       " [19, 3, 3, 8, 7],\n",
       " [22, 3, 24, 20, 0, 20, 16],\n",
       " [18, 11, 20, 17],\n",
       " [10, 6, 4, 15, 13],\n",
       " [21, 7, 5, 4, 23]]"
      ]
     },
     "execution_count": 83,
     "metadata": {},
     "output_type": "execute_result"
    }
   ],
   "source": [
    "source_int[:10]"
   ]
  },
  {
   "cell_type": "code",
   "execution_count": 118,
   "metadata": {
    "collapsed": true
   },
   "outputs": [],
   "source": [
    "def get_input():\n",
    "    inputs = tf.placeholder(tf.int32, [None, None] , name='inputs')\n",
    "    targets = tf.placeholder(tf.int32, [None, None], name='targets')\n",
    "    learning_rate = tf.placeholder(tf.float32, name='learning_rate')\n",
    "    \n",
    "    source_sequence_length = tf.placeholder(tf.int32, (None,), name='source_sequence_length')\n",
    "    target_sequence_length = tf.placeholder(tf.int32, (None,), name='target_sequence_length')\n",
    "    max_target_length = tf.reduce_max(target_sequence_length, name='max_target_length')\n",
    "    return inputs, targets, learning_rate, target_sequence_length, max_target_length, source_sequence_length"
   ]
  },
  {
   "cell_type": "code",
   "execution_count": 119,
   "metadata": {
    "collapsed": true
   },
   "outputs": [],
   "source": [
    "def get_encoder_layer(inputs, rnn_size, num_layers, source_sequence_length, source_vocab_size, encoding_embedding_size):\n",
    "    encoder_embed_input = tf.contrib.layers.embed_sequence(inputs, source_vocab_size, encoding_embedding_size)\n",
    "    \n",
    "    def get_lstm(rnn_size):\n",
    "        lstm_cell = tf.contrib.rnn.LSTMCell(rnn_size, initializer=tf.random_uniform_initializer(-0.1, 0.1, seed=2))\n",
    "        return lstm_cell\n",
    "    cell = tf.contrib.rnn.MultiRNNCell([get_lstm(rnn_size) for _ in range(num_layers)])\n",
    "    \n",
    "    encoder_output, encoder_state = tf.nn.dynamic_rnn(cell, encoder_embed_input, \n",
    "                                                      sequence_length=source_sequence_length, dtype=tf.float32)\n",
    "    return encoder_output, encoder_state"
   ]
  },
  {
   "cell_type": "code",
   "execution_count": 120,
   "metadata": {
    "collapsed": true
   },
   "outputs": [],
   "source": [
    "def process_decoder_input(data, vocab_to_int, batch_size):\n",
    "    ending = tf.strided_slice(data, [0,0], [batch_size, -1], )\n",
    "    decoder_input = tf.concat([tf.fill([batch_size, 1], vocab_to_int['<GO>']), ending], 1)\n",
    "    \n",
    "    return decoder_input"
   ]
  },
  {
   "cell_type": "code",
   "execution_count": 121,
   "metadata": {},
   "outputs": [],
   "source": [
    "def decoder_layer(target_letter_to_int, decoding_embedding_size, num_layers, rnn_size, target_sequence_length, \n",
    "                  max_target_length, encoder_state, decoder_input):\n",
    "\n",
    "    '''\n",
    "    构造Decoder层\n",
    "    \n",
    "    参数：\n",
    "    - target_letter_to_int: target数据的映射表\n",
    "    - decoding_embedding_size: embed向量大小\n",
    "    - num_layers: 堆叠的RNN单元数量\n",
    "    - rnn_size: RNN单元的隐层结点数量\n",
    "    - target_sequence_length: target数据序列长度\n",
    "    - max_target_sequence_length: target数据序列最大长度\n",
    "    - encoder_state: encoder端编码的状态向量\n",
    "    - decoder_input: decoder端输入\n",
    "    '''\n",
    "    target_vocab_size = len(target_letter_to_int)\n",
    "    decoder_embeddings = tf.Variable(tf.random_uniform([target_vocab_size, decoding_embedding_size]))\n",
    "    decoder_embed_input = tf.nn.embedding_lookup(decoder_embeddings, decoder_input)\n",
    "\n",
    "    #构造decoder中的RNN单元\n",
    "    def get_decoder_cell(rnn_size):\n",
    "        decoder_cell = tf.contrib.rnn.LSTMCell(rnn_size, initializer=tf.random_uniform_initializer(-0.1, 0.1, seed=2))\n",
    "        return decoder_cell\n",
    "    cell = tf.contrib.rnn.MultiRNNCell([get_decoder_cell(rnn_size) for _ in range(num_layers)])\n",
    "    \n",
    "    output_layer = Dense(target_vocab_size, kernel_initializer=tf.truncated_normal_initializer(mean=0.0, stddev=0.1))\n",
    "    \n",
    "    with tf.variable_scope('decode'):\n",
    "        training_helper = tf.contrib.seq2seq.TrainingHelper(inputs=decoder_embed_input, \n",
    "                                                            sequence_length=target_sequence_length,\n",
    "                                                            time_major=False)\n",
    "        training_decoder = tf.contrib.seq2seq.BasicDecoder(cell, training_helper, encoder_state, output_layer)\n",
    "        \n",
    "        training_decoder_output, _, _ = tf.contrib.seq2seq.dynamic_decode(training_decoder, impute_finished=True, \n",
    "                                                                   maximum_iterations= max_target_length)\n",
    "    \n",
    "    with tf.variable_scope('decode', reuse=True):\n",
    "        start_tokens = tf.tile(tf.constant([target_letter_to_int['<GO>']], dtype=tf.int32), [batch_size], \n",
    "                              name='start_token')\n",
    "        predicting_helper = tf.contrib.seq2seq.GreedyEmbeddingHelper(decoder_embeddings, start_tokens, \n",
    "                                                                  target_letter_to_int['<EOS>'])\n",
    "        predicting_decoder = tf.contrib.seq2seq.BasicDecoder(cell, predicting_helper, encoder_state, output_layer)\n",
    "        \n",
    "        predicting_decoder_output, _, _ = tf.contrib.seq2seq.dynamic_decode(predicting_decoder, impute_finished=True, \n",
    "                                                                        maximum_iterations= max_target_length)\n",
    "        \n",
    "    return training_decoder_output, predicting_decoder_output\n",
    "    "
   ]
  },
  {
   "cell_type": "code",
   "execution_count": 122,
   "metadata": {
    "collapsed": true
   },
   "outputs": [],
   "source": [
    "def seq2seq(inputs, targets, lr, rnn_size, num_layers, source_sequence_length, target_sequence_length, source_vocab_size, \n",
    "            target_vocab_size, encoding_embedding_size, decode_embedding_size, max_target_length):\n",
    "    \n",
    "    _, encoder_state = get_encoder_layer(inputs, rnn_size, num_layers, \n",
    "                                         source_sequence_length, source_vocab_size, encoding_embedding_size)\n",
    "    decoder_input = process_decoder_input(targets, target_letter_to_int, batch_size)\n",
    "    \n",
    "    training_decoder_output, predicting_decoder_output = decoder_layer(target_letter_to_int, decoding_embedding_size, \n",
    "                                                                       num_layers, rnn_size, target_sequence_length, \n",
    "                                                                       max_target_length, encoder_state, decoder_input)\n",
    "    return training_decoder_output, predicting_decoder_output"
   ]
  },
  {
   "cell_type": "code",
   "execution_count": 123,
   "metadata": {
    "collapsed": true
   },
   "outputs": [],
   "source": [
    "epoches = 60\n",
    "batch_size = 128\n",
    "rnn_size = 50\n",
    "num_layers =2\n",
    "learning_rate = 0.001\n",
    "encoding_embedding_size = 15\n",
    "decoding_embedding_size = 15"
   ]
  },
  {
   "cell_type": "code",
   "execution_count": 125,
   "metadata": {},
   "outputs": [],
   "source": [
    "train_graph = tf.Graph()\n",
    "\n",
    "with train_graph.as_default():\n",
    "    input_data, target_data, lr, target_sequence_length, max_target_length, source_sequence_length = get_input()\n",
    "    \n",
    "    training_decoder_output, predicting_decoder_output = seq2seq(input_data, target_data, lr, rnn_size, num_layers, \n",
    "                                                                source_sequence_length, target_sequence_length, \n",
    "                                                                len(source_letter_to_int), len(target_letter_to_int), \n",
    "                                                                encoding_embedding_size, \n",
    "                                                                decoding_embedding_size, max_target_length)\n",
    "    training_logits = tf.identity(training_decoder_output.rnn_output, 'logits')\n",
    "    predicting_logits = tf.identity(predicting_decoder_output.sample_id, name='prediction')\n",
    "    \n",
    "    masks = tf.sequence_mask(target_sequence_length, max_target_length, dtype= tf.float32, name='masks')\n",
    "    \n",
    "    with tf.name_scope(\"optimization\"):\n",
    "        cost = tf.contrib.seq2seq.sequence_loss(training_logits, target_data, masks)\n",
    "        optimizer = tf.train.AdamOptimizer(lr)\n",
    "        \n",
    "        gradients = optimizer.compute_gradients(cost)\n",
    "        capped_gradients = [(tf.clip_by_value(grad, -5., 5.), var) for grad, var in gradients if grad is not None]\n",
    "        train_op = optimizer.apply_gradients(capped_gradients)"
   ]
  },
  {
   "cell_type": "code",
   "execution_count": 126,
   "metadata": {
    "collapsed": true
   },
   "outputs": [],
   "source": [
    "def pad_sentence_batch(sentence_batch, pad_int):\n",
    "    max_sentence = max([len(sentence) for sentence in sentence_batch])\n",
    "    return [sentence + [pad_int]*(max_sentence - len(sentence)) for sentence in sentence_batch]"
   ]
  },
  {
   "cell_type": "code",
   "execution_count": 127,
   "metadata": {
    "collapsed": true
   },
   "outputs": [],
   "source": [
    "def get_batches(targets, sources, batch_size, source_pad_int, target_pad_int):\n",
    "    for batch_i in range(len(sources) // batch_size):\n",
    "        start_i = batch_i * batch_size\n",
    "        source_batch = sources[start_i: start_i + batch_size]\n",
    "        target_batch = targets[start_i: start_i + batch_size]\n",
    "        \n",
    "        pad_source_batch = np.array(pad_sentence_batch(source_batch, source_pad_int))\n",
    "        pad_target_batch = np.array(pad_sentence_batch(target_batch, target_pad_int))\n",
    "        \n",
    "        target_length = []\n",
    "        for target in target_batch:\n",
    "            target_length.append(len(target))\n",
    "        \n",
    "        source_length = []\n",
    "        for source in source_batch:\n",
    "            source_length.append(len(source))\n",
    "            \n",
    "        yield  pad_target_batch, pad_source_batch, target_length, source_length"
   ]
  },
  {
   "cell_type": "code",
   "execution_count": 132,
   "metadata": {},
   "outputs": [],
   "source": [
    "#留出一个batch_size 作为验证集\n",
    "train_source = source_int[batch_size:]\n",
    "train_target = target_int[batch_size:]\n",
    "\n",
    "valid_source = source_int[:batch_size]\n",
    "valid_target = target_int[:batch_size]\n",
    "\n",
    "valid_target_batch, valid_source_batch, valid_target_length, valid_source_length = next(get_batches(\n",
    "    valid_target, valid_source, batch_size, source_letter_to_int['<PAD>'], target_letter_to_int['<PAD>']))"
   ]
  },
  {
   "cell_type": "code",
   "execution_count": null,
   "metadata": {
    "collapsed": true
   },
   "outputs": [],
   "source": []
  },
  {
   "cell_type": "code",
   "execution_count": 138,
   "metadata": {
    "collapsed": true
   },
   "outputs": [
    {
     "name": "stdout",
     "output_type": "stream",
     "text": [
      "Epoch   1/60 Batch   49/77 - Training Loss:  2.939  - Validation loss:  2.936\n",
      "Epoch   2/60 Batch   49/77 - Training Loss:  2.202  - Validation loss:  2.189\n",
      "Epoch   3/60 Batch   49/77 - Training Loss:  1.802  - Validation loss:  1.764\n",
      "Epoch   4/60 Batch   49/77 - Training Loss:  1.493  - Validation loss:  1.469\n",
      "Epoch   5/60 Batch   49/77 - Training Loss:  1.268  - Validation loss:  1.245\n",
      "Epoch   6/60 Batch   49/77 - Training Loss:  1.092  - Validation loss:  1.067\n",
      "Epoch   7/60 Batch   49/77 - Training Loss:  0.924  - Validation loss:  0.908\n",
      "Epoch   8/60 Batch   49/77 - Training Loss:  0.776  - Validation loss:  0.757\n",
      "Epoch   9/60 Batch   49/77 - Training Loss:  0.660  - Validation loss:  0.637\n",
      "Epoch  10/60 Batch   49/77 - Training Loss:  0.566  - Validation loss:  0.542\n",
      "Epoch  11/60 Batch   49/77 - Training Loss:  0.484  - Validation loss:  0.469\n",
      "Epoch  12/60 Batch   49/77 - Training Loss:  0.410  - Validation loss:  0.399\n",
      "Epoch  13/60 Batch   49/77 - Training Loss:  0.351  - Validation loss:  0.335\n",
      "Epoch  14/60 Batch   49/77 - Training Loss:  0.299  - Validation loss:  0.286\n",
      "Epoch  15/60 Batch   49/77 - Training Loss:  0.254  - Validation loss:  0.244\n",
      "Epoch  16/60 Batch   49/77 - Training Loss:  0.217  - Validation loss:  0.208\n",
      "Epoch  17/60 Batch   49/77 - Training Loss:  0.190  - Validation loss:  0.179\n",
      "Epoch  18/60 Batch   49/77 - Training Loss:  0.162  - Validation loss:  0.157\n",
      "Epoch  19/60 Batch   49/77 - Training Loss:  0.140  - Validation loss:  0.137\n",
      "Epoch  20/60 Batch   49/77 - Training Loss:  0.124  - Validation loss:  0.121\n",
      "Epoch  21/60 Batch   49/77 - Training Loss:  0.109  - Validation loss:  0.108\n",
      "Epoch  22/60 Batch   49/77 - Training Loss:  0.095  - Validation loss:  0.097\n",
      "Epoch  23/60 Batch   49/77 - Training Loss:  0.086  - Validation loss:  0.090\n",
      "Epoch  24/60 Batch   49/77 - Training Loss:  0.076  - Validation loss:  0.079\n",
      "Epoch  25/60 Batch   49/77 - Training Loss:  0.068  - Validation loss:  0.070\n",
      "Epoch  26/60 Batch   49/77 - Training Loss:  0.061  - Validation loss:  0.062\n",
      "Epoch  27/60 Batch   49/77 - Training Loss:  0.055  - Validation loss:  0.057\n",
      "Epoch  28/60 Batch   49/77 - Training Loss:  0.051  - Validation loss:  0.053\n",
      "Epoch  29/60 Batch   49/77 - Training Loss:  0.046  - Validation loss:  0.050\n",
      "Epoch  30/60 Batch   49/77 - Training Loss:  0.041  - Validation loss:  0.042\n",
      "Epoch  31/60 Batch   49/77 - Training Loss:  0.037  - Validation loss:  0.037\n",
      "Epoch  32/60 Batch   49/77 - Training Loss:  0.034  - Validation loss:  0.035\n",
      "Epoch  33/60 Batch   49/77 - Training Loss:  0.029  - Validation loss:  0.031\n",
      "Epoch  34/60 Batch   49/77 - Training Loss:  0.026  - Validation loss:  0.028\n",
      "Epoch  35/60 Batch   49/77 - Training Loss:  0.023  - Validation loss:  0.026\n",
      "Epoch  36/60 Batch   49/77 - Training Loss:  0.022  - Validation loss:  0.025\n",
      "Epoch  37/60 Batch   49/77 - Training Loss:  0.020  - Validation loss:  0.024\n",
      "Epoch  38/60 Batch   49/77 - Training Loss:  0.019  - Validation loss:  0.022\n",
      "Epoch  39/60 Batch   49/77 - Training Loss:  0.018  - Validation loss:  0.021\n",
      "Epoch  40/60 Batch   49/77 - Training Loss:  0.017  - Validation loss:  0.020\n",
      "Epoch  41/60 Batch   49/77 - Training Loss:  0.015  - Validation loss:  0.019\n",
      "Epoch  42/60 Batch   49/77 - Training Loss:  0.014  - Validation loss:  0.018\n",
      "Epoch  43/60 Batch   49/77 - Training Loss:  0.013  - Validation loss:  0.017\n",
      "Epoch  44/60 Batch   49/77 - Training Loss:  0.012  - Validation loss:  0.017\n",
      "Epoch  45/60 Batch   49/77 - Training Loss:  0.011  - Validation loss:  0.015\n",
      "Epoch  46/60 Batch   49/77 - Training Loss:  0.010  - Validation loss:  0.014\n",
      "Epoch  47/60 Batch   49/77 - Training Loss:  0.010  - Validation loss:  0.013\n",
      "Epoch  48/60 Batch   49/77 - Training Loss:  0.009  - Validation loss:  0.012\n",
      "Epoch  49/60 Batch   49/77 - Training Loss:  0.009  - Validation loss:  0.011\n",
      "Epoch  50/60 Batch   49/77 - Training Loss:  0.009  - Validation loss:  0.011\n",
      "Epoch  51/60 Batch   49/77 - Training Loss:  0.008  - Validation loss:  0.011\n",
      "Epoch  52/60 Batch   49/77 - Training Loss:  0.007  - Validation loss:  0.011\n",
      "Epoch  53/60 Batch   49/77 - Training Loss:  0.007  - Validation loss:  0.010\n",
      "Epoch  54/60 Batch   49/77 - Training Loss:  0.006  - Validation loss:  0.010\n",
      "Epoch  55/60 Batch   49/77 - Training Loss:  0.006  - Validation loss:  0.010\n",
      "Epoch  56/60 Batch   49/77 - Training Loss:  0.006  - Validation loss:  0.010\n",
      "Epoch  57/60 Batch   49/77 - Training Loss:  0.005  - Validation loss:  0.010\n",
      "Epoch  58/60 Batch   49/77 - Training Loss:  0.005  - Validation loss:  0.010\n",
      "Epoch  59/60 Batch   49/77 - Training Loss:  0.005  - Validation loss:  0.010\n",
      "Epoch  60/60 Batch   49/77 - Training Loss:  0.005  - Validation loss:  0.010\n",
      "Model train and saved\n"
     ]
    }
   ],
   "source": [
    "display_step = 50\n",
    "checkpoint = './train_model.ckpt'\n",
    "\n",
    "with tf.Session(graph = train_graph) as sess:\n",
    "    sess.run(tf.global_variables_initializer())\n",
    "    for epoch_i in range(1, epoches+1):\n",
    "        for batch_i, (target_batch, source_batch, target_length, source_length) in enumerate(get_batches(\n",
    "            train_target, train_source, batch_size, source_letter_to_int['<PAD>'], target_letter_to_int['<PAD>'])):\n",
    "            _, loss = sess.run([train_op, cost], feed_dict={\n",
    "                input_data:source_batch,\n",
    "                target_data:target_batch,\n",
    "                lr:learning_rate,\n",
    "                target_sequence_length:target_length,\n",
    "                source_sequence_length:source_length,\n",
    "            })\n",
    "            if (batch_i+1) % display_step == 0:\n",
    "                valid_loss = sess.run([cost], feed_dict={\n",
    "                    input_data:valid_source_batch,\n",
    "                    target_data:valid_target_batch,\n",
    "                    lr:learning_rate,\n",
    "                    target_sequence_length:valid_target_length,\n",
    "                    source_sequence_length:valid_source_length,\n",
    "                })\n",
    "                print('Epoch {:>3}/{} Batch {:>4}/{} - Training Loss: {:>6.3f}  - Validation loss: {:>6.3f}'\n",
    "                      .format(epoch_i,\n",
    "                              epoches, \n",
    "                              batch_i, \n",
    "                              len(train_source) // batch_size, \n",
    "                              loss, \n",
    "                              valid_loss[0]))\n",
    "                \n",
    "    saver = tf.train.Saver()\n",
    "    saver.save(sess, checkpoint)\n",
    "    print('Model train and saved')"
   ]
  },
  {
   "cell_type": "code",
   "execution_count": 139,
   "metadata": {
    "collapsed": true
   },
   "outputs": [],
   "source": [
    "def source_to_seq(text):\n",
    "    sequence_length = 7\n",
    "    return [source_letter_to_int.get(word, source_letter_to_int['<UNK>']) for word in text] + [\n",
    "        source_letter_to_int['<PAD>']]*(sequence_length - len(text))"
   ]
  },
  {
   "cell_type": "code",
   "execution_count": 142,
   "metadata": {},
   "outputs": [
    {
     "name": "stdout",
     "output_type": "stream",
     "text": [
      "INFO:tensorflow:Restoring parameters from ./train_model.ckpt\n",
      "原始输入: common\n",
      "\n",
      "Source\n",
      "  Word 编号:    [5, 15, 7, 7, 15, 18, 26]\n",
      "  Input Words: c o m m o n <PAD>\n",
      "\n",
      "Target\n",
      "  Word 编号:       [5, 7, 7, 18, 15, 15]\n",
      "  Response Words: c m m n o o\n"
     ]
    }
   ],
   "source": [
    "input_word = 'common'\n",
    "text = source_to_seq(input_word)\n",
    "\n",
    "checkpoint = './train_model.ckpt'\n",
    "loaded_graph = tf.Graph()\n",
    "\n",
    "with tf.Session(graph = loaded_graph) as  sess:\n",
    "    loader = tf.train.import_meta_graph(checkpoint + '.meta')\n",
    "    loader.restore(sess, checkpoint)\n",
    "    input_data = loaded_graph.get_tensor_by_name('inputs:0')\n",
    "    logits = loaded_graph.get_tensor_by_name('prediction:0')\n",
    "    source_sequence_length = loaded_graph.get_tensor_by_name('source_sequence_length:0')\n",
    "    target_sequence_length = loaded_graph.get_tensor_by_name('target_sequence_length:0')\n",
    "    answer_logits = sess.run(logits, {input_data: [text]*batch_size, \n",
    "                                      target_sequence_length: [len(input_word)]*batch_size, \n",
    "                                      source_sequence_length: [len(input_word)]*batch_size})[0] \n",
    "\n",
    "\n",
    "pad = source_letter_to_int[\"<PAD>\"] \n",
    "\n",
    "print('原始输入:', input_word)\n",
    "\n",
    "print('\\nSource')\n",
    "print('  Word 编号:    {}'.format([i for i in text]))\n",
    "print('  Input Words: {}'.format(\" \".join([source_int_to_letter[i] for i in text])))\n",
    "\n",
    "print('\\nTarget')\n",
    "print('  Word 编号:       {}'.format([i for i in answer_logits if i != pad]))\n",
    "print('  Response Words: {}'.format(\" \".join([target_int_to_letter[i] for i in answer_logits if i != pad])))"
   ]
  },
  {
   "cell_type": "code",
   "execution_count": null,
   "metadata": {
    "collapsed": true
   },
   "outputs": [],
   "source": []
  }
 ],
 "metadata": {
  "kernelspec": {
   "display_name": "Python 3",
   "language": "python",
   "name": "python3"
  },
  "language_info": {
   "codemirror_mode": {
    "name": "ipython",
    "version": 3
   },
   "file_extension": ".py",
   "mimetype": "text/x-python",
   "name": "python",
   "nbconvert_exporter": "python",
   "pygments_lexer": "ipython3",
   "version": "3.6.3"
  }
 },
 "nbformat": 4,
 "nbformat_minor": 2
}
