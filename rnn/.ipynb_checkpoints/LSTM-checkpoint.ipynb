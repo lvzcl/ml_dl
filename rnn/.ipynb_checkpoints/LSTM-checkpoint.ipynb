{
 "cells": [
  {
   "cell_type": "markdown",
   "metadata": {},
   "source": [
    "## 参考https://zhuanlan.zhihu.com/p/27234078 通过LSTM实现文本生成\n",
    "\n",
    "## 分成四个部分， 分别是数据预处理，构件模型图，训练模型，生成文本"
   ]
  },
  {
   "cell_type": "code",
   "execution_count": 16,
   "metadata": {},
   "outputs": [],
   "source": [
    "import tensorflow as tf\n",
    "import numpy as np\n",
    "import time\n",
    "from IPython.core.interactiveshell import InteractiveShell\n",
    "InteractiveShell.ast_node_interactivity = 'all'"
   ]
  },
  {
   "cell_type": "code",
   "execution_count": 3,
   "metadata": {},
   "outputs": [],
   "source": [
    "with open('./data/anna.txt', 'r') as f:\n",
    "    text = f.read()\n",
    "vocab = set(text)\n"
   ]
  },
  {
   "cell_type": "markdown",
   "metadata": {},
   "source": [
    "## 这时候我才发现原来作者实现的是面向字符的，也就是一个个字母，这时候我就产生了一个疑问，如果保证生成的单词是正确的。当然，之后会尝试中文的，这也是比赛中nn的预处理要做的\n"
   ]
  },
  {
   "cell_type": "code",
   "execution_count": 9,
   "metadata": {},
   "outputs": [],
   "source": [
    "vocab_to_int = {c:i for i, c in enumerate(vocab)}\n",
    "int_to_vocab = dict(enumerate(vocab))\n",
    "\n",
    "#对文本转码\n",
    "encoded = np.array([vocab_to_int[c] for c in text], dtype=np.int32)"
   ]
  },
  {
   "cell_type": "markdown",
   "metadata": {},
   "source": [
    "## 接下来划分数据集，使用mini_batch 的方法，rnn的minibatch和dnn的不太一样，因为rnn中涉及到记忆，这里面就有了一个sequence_length,假设序列长度为M，我们有N个序列，这样的情况下batch就有N * M个字符，这样我们就有count/(N * M)个batch"
   ]
  },
  {
   "cell_type": "code",
   "execution_count": 47,
   "metadata": {},
   "outputs": [],
   "source": [
    "def mini_batch(arr, n_seqs, n_size):\n",
    "    #arr :待划分的数组\n",
    "    #n_seqs为序列的个数\n",
    "    #n_size为序列的长度\n",
    "    batch_size = n_seqs * n_size\n",
    "    n_batch = int(len(arr) / batch_size)\n",
    "    \n",
    "    arr = arr[: batch_size * n_batch]\n",
    "    \n",
    "    arr = arr.reshape((n_seqs, -1))\n",
    "    \n",
    "    for i in range(0, arr.shape[1], n_size):\n",
    "        x = arr[:, i:i+n_size]\n",
    "        #y会比x向后错一位\n",
    "        y = np.zeros_like(x)\n",
    "        y[:, :-1], y[:, -1] = x[:, 1:], x[:, 0]\n",
    "        yield x, y"
   ]
  },
  {
   "cell_type": "code",
   "execution_count": 67,
   "metadata": {
    "collapsed": true
   },
   "outputs": [],
   "source": [
    "#输入层\n",
    "def build_inputs(num_seqs, num_size):\n",
    "    #输入层的输入等价于mini_batch 的结果\n",
    "    x = tf.placeholder(tf.int32, shape=[num_seqs, num_size], name='inputs')\n",
    "    y = tf.placeholder(tf.int32, shape=[num_seqs, num_size], name='targets')\n",
    "    \n",
    "    keep_prob = tf.placeholder(tf.float32, name='keep_prob')\n",
    "    return x, y, keep_prob"
   ]
  },
  {
   "cell_type": "code",
   "execution_count": 68,
   "metadata": {
    "collapsed": true
   },
   "outputs": [],
   "source": [
    "#构件lstm层\n",
    "def build_lstm(lstm_size, num_layers, batch_size, keep_prob):\n",
    "    lstm_cells = []\n",
    "    for i in range(num_layers):\n",
    "        lstm = tf.contrib.rnn.BasicLSTMCell(lstm_size)\n",
    "        #添加drop层\n",
    "        drop = tf.contrib.rnn.DropoutWrapper(lstm, output_keep_prob=keep_prob)\n",
    "        lstm_cells.append(drop)\n",
    "    #堆叠\n",
    "    cell = tf.contrib.rnn.MultiRNNCell(lstm_cells)\n",
    "    initial_state = cell.zero_state(batch_size, tf.float32)\n",
    "    return cell, initial_state"
   ]
  },
  {
   "cell_type": "code",
   "execution_count": 69,
   "metadata": {
    "collapsed": true
   },
   "outputs": [],
   "source": [
    "#构件输出层\n",
    "def build_output(lstm_output, in_size, output_size):\n",
    "    seq_output = tf.concat(lstm_output, axis=1)\n",
    "    x = tf.reshape(seq_output, [-1, in_size])\n",
    "    \n",
    "    with tf.variable_scope(\"softmax\"):\n",
    "        w = tf.Variable(tf.truncated_normal([in_size, output_size], stddev = 0.1))\n",
    "        b = tf.Variable(tf.zeros(output_size))\n",
    "    \n",
    "    logits = tf.matmul(x, w) + b\n",
    "    out = tf.nn.softmax(logits, name='predictions')\n",
    "    return out, logits"
   ]
  },
  {
   "cell_type": "code",
   "execution_count": 70,
   "metadata": {
    "collapsed": true
   },
   "outputs": [],
   "source": [
    "def build_loss(logits, targets, num_classes):\n",
    "    y_one_hot = tf.one_hot(targets,num_classes)\n",
    "    y_reshaped = tf.reshape(y_one_hot, logits.get_shape())\n",
    "    loss = tf.reduce_mean(tf.nn.softmax_cross_entropy_with_logits(logits=logits, labels=y_reshaped))\n",
    "    return loss"
   ]
  },
  {
   "cell_type": "code",
   "execution_count": 71,
   "metadata": {
    "collapsed": true
   },
   "outputs": [],
   "source": [
    "\n",
    "\n",
    "def build_optimizer(loss, learning_rate, grad_clip):\n",
    "    ''' \n",
    "    构造Optimizer\n",
    "   \n",
    "    loss: 损失\n",
    "    learning_rate: 学习率\n",
    "    \n",
    "    '''\n",
    "    \n",
    "    # 使用clipping gradients\n",
    "    tvars = tf.trainable_variables()\n",
    "    grads, _ = tf.clip_by_global_norm(tf.gradients(loss, tvars), grad_clip)\n",
    "    train_op = tf.train.AdamOptimizer(learning_rate)\n",
    "    optimizer = train_op.apply_gradients(zip(grads, tvars))\n",
    "    \n",
    "    return optimizer"
   ]
  },
  {
   "cell_type": "code",
   "execution_count": 72,
   "metadata": {
    "collapsed": true
   },
   "outputs": [],
   "source": [
    "class CharRNN:\n",
    "    def __init__(self, num_classes, batch_size=64, num_steps=50, lstm_size=128, num_layers=2,\n",
    "                learning_rate=0.01, grad_clip=5, sampling=False):\n",
    "        #如果sampling是true，就采用sgd\n",
    "        if sampling:\n",
    "            batch_size, num_steps = 1, 1\n",
    "        else:\n",
    "            batch_size, num_steps = batch_size, num_steps\n",
    "        \n",
    "        tf.reset_default_graph()\n",
    "        #构建输入层\n",
    "        self.inputs, self.targets, self.keep_prob = build_inputs(batch_size, num_steps)\n",
    "        #构建lstm层\n",
    "        cell, self.initial_state = build_lstm(lstm_size, num_layers, batch_size, self.keep_prob)\n",
    "        #构建输出层\n",
    "        x_one_hot = tf.one_hot(self.inputs, num_classes)\n",
    "        \n",
    "        outputs, state = tf.nn.dynamic_rnn(cell, x_one_hot, initial_state=self.initial_state)\n",
    "        self.final_state = state\n",
    "        self.prediciton, self.logits = build_output(outputs, lstm_size, num_classes)\n",
    "        \n",
    "        self.loss = build_loss(self.logits, self.targets, num_classes)\n",
    "        self.optimizer = build_optimizer(self.loss, learning_rate, grad_clip)\n",
    "\n",
    "        "
   ]
  },
  {
   "cell_type": "code",
   "execution_count": null,
   "metadata": {
    "collapsed": true
   },
   "outputs": [],
   "source": []
  },
  {
   "cell_type": "code",
   "execution_count": 73,
   "metadata": {},
   "outputs": [],
   "source": [
    "batch_size = 100\n",
    "num_steps = 100\n",
    "lstm_size = 512\n",
    "num_layers = 2\n",
    "learning_rate = 0.001 \n",
    "keep_prob = 0.5 \n",
    "\n",
    "epochs = 20\n",
    "save_every_n = 200\n",
    "model = CharRNN(len(vocab), batch_size=batch_size, num_steps=num_steps,\n",
    "                lstm_size=lstm_size, num_layers=num_layers, \n",
    "                learning_rate=learning_rate)"
   ]
  },
  {
   "cell_type": "code",
   "execution_count": null,
   "metadata": {
    "collapsed": true
   },
   "outputs": [],
   "source": []
  }
 ],
 "metadata": {
  "kernelspec": {
   "display_name": "Python 3",
   "language": "python",
   "name": "python3"
  },
  "language_info": {
   "codemirror_mode": {
    "name": "ipython",
    "version": 3
   },
   "file_extension": ".py",
   "mimetype": "text/x-python",
   "name": "python",
   "nbconvert_exporter": "python",
   "pygments_lexer": "ipython3",
   "version": "3.6.3"
  }
 },
 "nbformat": 4,
 "nbformat_minor": 2
}
