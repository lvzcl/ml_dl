{
 "cells": [
  {
   "cell_type": "code",
   "execution_count": 11,
   "metadata": {},
   "outputs": [],
   "source": [
    "import tensorflow as tf\n",
    "import numpy as np\n",
    "import warnings\n",
    "import matplotlib.pyplot as plt\n",
    "import tqdm\n",
    "from IPython.core.interactiveshell import InteractiveShell\n",
    "InteractiveShell.ast_node_interactivity = 'all'\n",
    "warnings.filterwarnings('ignore')"
   ]
  },
  {
   "cell_type": "code",
   "execution_count": 4,
   "metadata": {},
   "outputs": [],
   "source": [
    "with open('../data/letters_source.txt', 'r') as f:\n",
    "    source_data = f.read()\n",
    "f.close()\n",
    "with open('../data/letters_target.txt', 'r') as f:\n",
    "    target_data = f.read()\n",
    "f.close()"
   ]
  },
  {
   "cell_type": "code",
   "execution_count": 7,
   "metadata": {},
   "outputs": [],
   "source": [
    "source_data = source_data.split('\\n')\n",
    "target_data = target_data.split('\\n')"
   ]
  },
  {
   "cell_type": "code",
   "execution_count": 12,
   "metadata": {},
   "outputs": [
    {
     "data": {
      "text/plain": [
       "['bsaqq',\n",
       " 'npy',\n",
       " 'lbwuj',\n",
       " 'bqv',\n",
       " 'kial',\n",
       " 'tddam',\n",
       " 'edxpjpg',\n",
       " 'nspv',\n",
       " 'huloz',\n",
       " 'kmclq']"
      ]
     },
     "execution_count": 12,
     "metadata": {},
     "output_type": "execute_result"
    },
    {
     "data": {
      "text/plain": [
       "['abqqs',\n",
       " 'npy',\n",
       " 'bjluw',\n",
       " 'bqv',\n",
       " 'aikl',\n",
       " 'addmt',\n",
       " 'degjppx',\n",
       " 'npsv',\n",
       " 'hlouz',\n",
       " 'cklmq']"
      ]
     },
     "execution_count": 12,
     "metadata": {},
     "output_type": "execute_result"
    },
    {
     "data": {
      "text/plain": [
       "10000"
      ]
     },
     "execution_count": 12,
     "metadata": {},
     "output_type": "execute_result"
    },
    {
     "data": {
      "text/plain": [
       "10000"
      ]
     },
     "execution_count": 12,
     "metadata": {},
     "output_type": "execute_result"
    }
   ],
   "source": [
    "source_data[:10]\n",
    "target_data[:10]\n",
    "len(source_data)\n",
    "len(target_data)"
   ]
  },
  {
   "cell_type": "code",
   "execution_count": 20,
   "metadata": {},
   "outputs": [],
   "source": [
    "def character_dict(data):\n",
    "    #构造映射表\n",
    "    special_words = ['<PAD>', '<UNK>', '<GO>', '<EOS>']\n",
    "    set_words = list(set([character for line in data for character in line]))\n",
    "    int_to_character = {idx: character for idx, character in enumerate(set_words + special_words)}\n",
    "    character_to_int = {character: idx for idx, character in int_to_character.items()}\n",
    "    return character_to_int, int_to_character"
   ]
  },
  {
   "cell_type": "code",
   "execution_count": 33,
   "metadata": {},
   "outputs": [],
   "source": [
    "source_character_to_int, source_int_to_character = character_dict(source_data)\n",
    "target_character_to_int, target_int_to_character = character_dict(target_data)\n",
    "#构造输入数据,将字母用数字表示\n",
    "source_int = [[source_character_to_int.get(character, '<UNK>') for character in line] for line in source_data]\n",
    "target_int = [[target_character_to_int.get(character, '<UNK>') for character in line] + [\n",
    "    target_character_to_int['<EOS>']] for line in source_data]"
   ]
  },
  {
   "cell_type": "code",
   "execution_count": 81,
   "metadata": {},
   "outputs": [],
   "source": [
    "def get_input():\n",
    "    inputs = tf.placeholder(tf.int32, [None, None], name='inputs')\n",
    "    targets = tf.placeholder(tf.int32, [None, None], name='targets')\n",
    "    learning_rate = tf.placeholder(tf.float32, name='learning_rate')\n",
    "\n",
    "    target_sequence_length = tf.placeholder(tf.int32, (None,), name='target_sequence_length')\n",
    "    max_target_sequence_length = tf.reduce_max(target_sequence_length, name='max_target_sequnence_length')\n",
    "    source_sequence_length = tf.placeholder(tf.int32, (None,), name='source_target_length')\n",
    "    return inputs, targets, learning_rate, target_sequence_length, max_target_sequence_length, source_sequence_length"
   ]
  },
  {
   "cell_type": "code",
   "execution_count": 82,
   "metadata": {},
   "outputs": [],
   "source": [
    "def Encoder(input_data, rnn_size, layer_nums, \n",
    "            source_sequence_length, source_character_size, encoding_embedding_size):\n",
    "    encoder_embed_input = tf.contrib.layers.embed_sequence(input_data, source_character_size, encoding_embedding_size)\n",
    "    def get_lstm_cell(rnn_size):\n",
    "        lstm_cell = tf.contrib.rnn.LSTMCell(rnn_size, initializer=tf.random_uniform_initializer(-0.1, 0.1, seed=2))\n",
    "        return lstm_cell\n",
    "    multi_cell = tf.contrib.rnn.MultiRNNCell([get_lstm_cell(rnn_size) for _ in range(layer_nums)])\n",
    "    encoder_outputs, encoder_state = tf.nn.dynamic_rnn(multi_cell, encoder_embed_input, source_sequence_length, \n",
    "                                                       dtype=tf.float32)\n",
    "    return encoder_outputs, encoder_state"
   ]
  },
  {
   "cell_type": "code",
   "execution_count": 83,
   "metadata": {},
   "outputs": [],
   "source": [
    "def process_decoder_input(data, character_to_int, batch_size):\n",
    "    #去除掉target最后的<eos>，并且在target的前面加上<go>作为起始标志\n",
    "    ending = tf.strided_slice(data, [0,0], [batch_size, -1], [1,1])\n",
    "    decoder_inputs = tf.concat([tf.fill([batch_size, 1], character_to_int['<GO>']), ending], 1)\n",
    "    return decoder_inputs"
   ]
  },
  {
   "cell_type": "code",
   "execution_count": 84,
   "metadata": {},
   "outputs": [],
   "source": [
    "def decoder(decoder_input, rnn_size, layer_nums, decoding_embedding_size, target_character_to_int, \n",
    "            target_sequence_length, max_target_sequence_length, encoder_state):\n",
    "    #1.embedding\n",
    "    target_character_size = len(target_character_to_int)\n",
    "    decoder_embeddings = tf.Variable(tf.random_uniform([target_character_size, decoding_embedding_size]))\n",
    "    decoder_embedding_input = tf.nn.embedding_lookup(decoder_embeddings, decoder_input)\n",
    "    #2.构造decoder端的rnn单元\n",
    "    def get_lstm_cell(rnn_size):\n",
    "        lstm_cell = tf.contrib.rnn.LSTMCell(rnn_size, initializer=tf.random_uniform_initializer(-0.1, 0.1, seed=2))\n",
    "        return lstm_cell\n",
    "    multi_cell = tf.contrib.rnn.MultiRNNCell([get_lstm_cell(rnn_size) for _ in range(layer_nums)])\n",
    "    #构造全连接层\n",
    "    output_layer = tf.layers.Dense(target_character_size, kernel_initializer=tf.truncated_normal_initializer(\n",
    "        mean=0.0, stddev=0.1))\n",
    "    #4.training_decoder\n",
    "    with tf.variable_scope('decoder'):\n",
    "        training_helper = tf.contrib.seq2seq.TrainingHelper(inputs=decoder_embedding_input,\n",
    "                                                            sequence_length=target_sequence_length,\n",
    "                                                            time_major=False)\n",
    "        #构造decoder\n",
    "        training_decoder = tf.contrib.seq2seq.BasicDecoder(multi_cell, training_helper, encoder_state, output_layer)\n",
    "        \n",
    "        training_decoder_output, _, _ = tf.contrib.seq2seq.dynamic_decode(training_decoder, impute_finished=True, maximum_iterations=max_target_sequence_length)\n",
    "    \n",
    "    #5.predict_decoder\n",
    "    with tf.variable_scope('decoder', reuse=True):\n",
    "        start_tokens = tf.tile(tf.constant([target_character_to_int['<GO>']], dtype=tf.int32), [batch_size], \n",
    "                               name='start_tokens')\n",
    "        predict_helper = tf.contrib.seq2seq.GreedyEmbeddingHelper(decoder_embeddings, start_tokens, \n",
    "                                                                  target_character_to_int['<EOS>'])\n",
    "        predict_decoder = tf.contrib.seq2seq.BasicDecoder(multi_cell, predict_helper, encoder_state, output_layer)\n",
    "        \n",
    "        predict_decoder_output, _, _ = tf.contrib.seq2seq.dynamic_decode(predict_decoder, \n",
    "                                                                      impute_finished=True, \n",
    "                                                                      maximum_iterations=max_target_sequence_length)\n",
    "        \n",
    "    return training_decoder_output, predict_decoder_output\n"
   ]
  },
  {
   "cell_type": "code",
   "execution_count": 85,
   "metadata": {},
   "outputs": [],
   "source": [
    "def seq2seq_model(input_data, targets, lr, target_sequence_length, max_target_sequence_length,\n",
    "                  source_sequence_length, source_character_size, target_character_size, \n",
    "                  encoding_embedding_size, decoding_embedding_size, rnn_size, layer_nums):\n",
    "    encoder_ouput, encoder_state = Encoder(input_data, rnn_size, layer_nums, \n",
    "                                          source_sequence_length, source_character_size, encoding_embedding_size)\n",
    "    decoder_input = process_decoder_input(targets, target_character_to_int, batch_size)\n",
    "    training_decoder_output, predict_decoder_output = decoder(decoder_input, rnn_size, layer_nums,\n",
    "                                                             decoding_embedding_size, target_character_to_int, \n",
    "                                                             target_sequence_length, max_target_sequence_length,\n",
    "                                                             encoder_state)\n",
    "    return training_decoder_output, predict_decoder_output"
   ]
  },
  {
   "cell_type": "code",
   "execution_count": 86,
   "metadata": {},
   "outputs": [],
   "source": [
    "epochs = 60\n",
    "learning_rate = 0.001\n",
    "batch_size = 128\n",
    "rnn_size = 50\n",
    "layer_nums = 2\n",
    "encoding_embedding_size = 15\n",
    "decoding_embedding_size = 15\n"
   ]
  },
  {
   "cell_type": "code",
   "execution_count": 92,
   "metadata": {},
   "outputs": [],
   "source": [
    "training_graph = tf.Graph()\n",
    "with training_graph.as_default():\n",
    "    inputs_data, targets, lr, target_sequence_length, max_target_sequence_length, source_sequence_length = get_input()\n",
    "    training_decoder_output, predict_decoder_output = seq2seq_model(inputs_data, targets, lr, target_sequence_length, \n",
    "                                                            max_target_sequence_length, source_sequence_length,\n",
    "                                                            len(source_character_to_int), len(target_character_to_int),\n",
    "                                                            encoding_embedding_size, decoding_embedding_size, rnn_size,\n",
    "                                                                   layer_nums)\n",
    "    training_logits = tf.identity(training_decoder_output.rnn_output, 'logits')\n",
    "    predict_logits = tf.identity(predict_decoder_output.sample_id, name='predictions')\n",
    "    \n",
    "    masks = tf.sequence_mask(target_sequence_length, max_target_sequence_length, dtype=tf.float32, name='masks')\n",
    "    with tf.name_scope('optimization'):\n",
    "        cost = tf.contrib.seq2seq.sequence_loss(training_logits, targets, masks)\n",
    "        optimizer = tf.train.AdamOptimizer(lr)\n",
    "        \n",
    "        gradients = optimizer.compute_gradients(cost)\n",
    "        crapped_gradients = [(tf.clip_by_value(grad, -5., 5.), var) for grad, var in gradients if grad is not None]\n",
    "        training_op = optimizer.apply_gradients(crapped_gradients)\n",
    "    "
   ]
  },
  {
   "cell_type": "code",
   "execution_count": 93,
   "metadata": {},
   "outputs": [],
   "source": [
    "def pad_sentence_batch(sentence_batch, pad_int):\n",
    "    #对sentence进行补全，不够的填充<PAD>\n",
    "    max_sentence = max([len(sentence) for sentence in sentence_batch])\n",
    "    return [sentence + [pad_int] * (max_sentence - len(sentence)) \n",
    "            for sentence in sentence_batch]"
   ]
  },
  {
   "cell_type": "code",
   "execution_count": 94,
   "metadata": {},
   "outputs": [],
   "source": [
    "def get_batches(targets, sources, batch_size, source_pad_int, target_pad_int):\n",
    "    for batch_i in range(len(sources) // batch_size):\n",
    "        start_i = batch_i * batch_size\n",
    "        sources_batch = sources[start_i : start_i + batch_size]\n",
    "        targets_batch = targets[start_i : start_i + batch_size]\n",
    "        pad_sources_batch = pad_sentence_batch(sources_batch, source_pad_int)\n",
    "        pad_targets_batch = pad_sentence_batch(targets_batch, target_pad_int)\n",
    "        \n",
    "        #记录每条记录的长度\n",
    "        target_lengths = []\n",
    "        for target in targets_batch:\n",
    "            target_lengths.append(len(target))\n",
    "        \n",
    "        source_lengths = []\n",
    "        for source in sources_batch:\n",
    "            source_lengths.append(len(source))\n",
    "        \n",
    "        yield pad_targets_batch, pad_sources_batch, target_lengths, source_lengths\n",
    "        "
   ]
  },
  {
   "cell_type": "code",
   "execution_count": 102,
   "metadata": {
    "scrolled": true
   },
   "outputs": [
    {
     "name": "stdout",
     "output_type": "stream",
     "text": [
      "Epoch   1/60 Batch    0/77 - Training Loss:  3.400  - Validation loss:  3.396\n",
      "Epoch   1/60 Batch   50/77 - Training Loss:  3.088  - Validation loss:  3.054\n",
      "Epoch   2/60 Batch    0/77 - Training Loss:  2.865  - Validation loss:  2.827\n",
      "Epoch   2/60 Batch   50/77 - Training Loss:  2.548  - Validation loss:  2.479\n",
      "Epoch   3/60 Batch    0/77 - Training Loss:  2.382  - Validation loss:  2.349\n",
      "Epoch   3/60 Batch   50/77 - Training Loss:  2.190  - Validation loss:  2.133\n",
      "Epoch   4/60 Batch    0/77 - Training Loss:  2.075  - Validation loss:  2.039\n",
      "Epoch   4/60 Batch   50/77 - Training Loss:  1.909  - Validation loss:  1.863\n",
      "Epoch   5/60 Batch    0/77 - Training Loss:  1.804  - Validation loss:  1.776\n",
      "Epoch   5/60 Batch   50/77 - Training Loss:  1.678  - Validation loss:  1.617\n",
      "Epoch   6/60 Batch    0/77 - Training Loss:  1.551  - Validation loss:  1.536\n",
      "Epoch   6/60 Batch   50/77 - Training Loss:  1.449  - Validation loss:  1.377\n",
      "Epoch   7/60 Batch    0/77 - Training Loss:  1.330  - Validation loss:  1.293\n",
      "Epoch   7/60 Batch   50/77 - Training Loss:  1.205  - Validation loss:  1.139\n",
      "Epoch   8/60 Batch    0/77 - Training Loss:  1.086  - Validation loss:  1.063\n",
      "Epoch   8/60 Batch   50/77 - Training Loss:  0.980  - Validation loss:  0.922\n",
      "Epoch   9/60 Batch    0/77 - Training Loss:  0.854  - Validation loss:  0.850\n",
      "Epoch   9/60 Batch   50/77 - Training Loss:  0.764  - Validation loss:  0.727\n",
      "Epoch  10/60 Batch    0/77 - Training Loss:  0.659  - Validation loss:  0.675\n",
      "Epoch  10/60 Batch   50/77 - Training Loss:  0.619  - Validation loss:  0.579\n",
      "Epoch  11/60 Batch    0/77 - Training Loss:  0.506  - Validation loss:  0.539\n",
      "Epoch  11/60 Batch   50/77 - Training Loss:  0.506  - Validation loss:  0.499\n",
      "Epoch  12/60 Batch    0/77 - Training Loss:  0.406  - Validation loss:  0.451\n",
      "Epoch  12/60 Batch   50/77 - Training Loss:  0.435  - Validation loss:  0.426\n",
      "Epoch  13/60 Batch    0/77 - Training Loss:  0.337  - Validation loss:  0.388\n",
      "Epoch  13/60 Batch   50/77 - Training Loss:  0.353  - Validation loss:  0.366\n",
      "Epoch  14/60 Batch    0/77 - Training Loss:  0.278  - Validation loss:  0.336\n",
      "Epoch  14/60 Batch   50/77 - Training Loss:  0.298  - Validation loss:  0.313\n",
      "Epoch  15/60 Batch    0/77 - Training Loss:  0.233  - Validation loss:  0.293\n",
      "Epoch  15/60 Batch   50/77 - Training Loss:  0.254  - Validation loss:  0.280\n",
      "Epoch  16/60 Batch    0/77 - Training Loss:  0.201  - Validation loss:  0.258\n",
      "Epoch  16/60 Batch   50/77 - Training Loss:  0.219  - Validation loss:  0.252\n",
      "Epoch  17/60 Batch    0/77 - Training Loss:  0.177  - Validation loss:  0.227\n",
      "Epoch  17/60 Batch   50/77 - Training Loss:  0.198  - Validation loss:  0.210\n",
      "Epoch  18/60 Batch    0/77 - Training Loss:  0.155  - Validation loss:  0.214\n",
      "Epoch  18/60 Batch   50/77 - Training Loss:  0.174  - Validation loss:  0.182\n",
      "Epoch  19/60 Batch    0/77 - Training Loss:  0.147  - Validation loss:  0.196\n",
      "Epoch  19/60 Batch   50/77 - Training Loss:  0.160  - Validation loss:  0.177\n",
      "Epoch  20/60 Batch    0/77 - Training Loss:  0.123  - Validation loss:  0.184\n",
      "Epoch  20/60 Batch   50/77 - Training Loss:  0.146  - Validation loss:  0.156\n",
      "Epoch  21/60 Batch    0/77 - Training Loss:  0.107  - Validation loss:  0.165\n",
      "Epoch  21/60 Batch   50/77 - Training Loss:  0.130  - Validation loss:  0.145\n",
      "Epoch  22/60 Batch    0/77 - Training Loss:  0.096  - Validation loss:  0.153\n",
      "Epoch  22/60 Batch   50/77 - Training Loss:  0.107  - Validation loss:  0.132\n",
      "Epoch  23/60 Batch    0/77 - Training Loss:  0.096  - Validation loss:  0.128\n",
      "Epoch  23/60 Batch   50/77 - Training Loss:  0.098  - Validation loss:  0.123\n",
      "Epoch  24/60 Batch    0/77 - Training Loss:  0.085  - Validation loss:  0.121\n",
      "Epoch  24/60 Batch   50/77 - Training Loss:  0.092  - Validation loss:  0.114\n",
      "Epoch  25/60 Batch    0/77 - Training Loss:  0.077  - Validation loss:  0.119\n",
      "Epoch  25/60 Batch   50/77 - Training Loss:  0.090  - Validation loss:  0.106\n",
      "Epoch  26/60 Batch    0/77 - Training Loss:  0.072  - Validation loss:  0.116\n",
      "Epoch  26/60 Batch   50/77 - Training Loss:  0.082  - Validation loss:  0.103\n",
      "Epoch  27/60 Batch    0/77 - Training Loss:  0.071  - Validation loss:  0.126\n",
      "Epoch  27/60 Batch   50/77 - Training Loss:  0.071  - Validation loss:  0.104\n",
      "Epoch  28/60 Batch    0/77 - Training Loss:  0.068  - Validation loss:  0.107\n",
      "Epoch  28/60 Batch   50/77 - Training Loss:  0.066  - Validation loss:  0.093\n",
      "Epoch  29/60 Batch    0/77 - Training Loss:  0.073  - Validation loss:  0.093\n",
      "Epoch  29/60 Batch   50/77 - Training Loss:  0.062  - Validation loss:  0.089\n",
      "Epoch  30/60 Batch    0/77 - Training Loss:  0.063  - Validation loss:  0.098\n",
      "Epoch  30/60 Batch   50/77 - Training Loss:  0.066  - Validation loss:  0.095\n",
      "Epoch  31/60 Batch    0/77 - Training Loss:  0.050  - Validation loss:  0.083\n",
      "Epoch  31/60 Batch   50/77 - Training Loss:  0.052  - Validation loss:  0.087\n",
      "Epoch  32/60 Batch    0/77 - Training Loss:  0.044  - Validation loss:  0.082\n",
      "Epoch  32/60 Batch   50/77 - Training Loss:  0.045  - Validation loss:  0.079\n",
      "Epoch  33/60 Batch    0/77 - Training Loss:  0.038  - Validation loss:  0.077\n",
      "Epoch  33/60 Batch   50/77 - Training Loss:  0.043  - Validation loss:  0.073\n",
      "Epoch  34/60 Batch    0/77 - Training Loss:  0.033  - Validation loss:  0.071\n",
      "Epoch  34/60 Batch   50/77 - Training Loss:  0.041  - Validation loss:  0.068\n",
      "Epoch  35/60 Batch    0/77 - Training Loss:  0.031  - Validation loss:  0.062\n",
      "Epoch  35/60 Batch   50/77 - Training Loss:  0.042  - Validation loss:  0.064\n",
      "Epoch  36/60 Batch    0/77 - Training Loss:  0.029  - Validation loss:  0.056\n",
      "Epoch  36/60 Batch   50/77 - Training Loss:  0.044  - Validation loss:  0.063\n",
      "Epoch  37/60 Batch    0/77 - Training Loss:  0.027  - Validation loss:  0.054\n",
      "Epoch  37/60 Batch   50/77 - Training Loss:  0.031  - Validation loss:  0.063\n",
      "Epoch  38/60 Batch    0/77 - Training Loss:  0.028  - Validation loss:  0.058\n",
      "Epoch  38/60 Batch   50/77 - Training Loss:  0.030  - Validation loss:  0.054\n",
      "Epoch  39/60 Batch    0/77 - Training Loss:  0.026  - Validation loss:  0.057\n",
      "Epoch  39/60 Batch   50/77 - Training Loss:  0.029  - Validation loss:  0.050\n",
      "Epoch  40/60 Batch    0/77 - Training Loss:  0.028  - Validation loss:  0.050\n",
      "Epoch  40/60 Batch   50/77 - Training Loss:  0.025  - Validation loss:  0.045\n",
      "Epoch  41/60 Batch    0/77 - Training Loss:  0.022  - Validation loss:  0.057\n",
      "Epoch  41/60 Batch   50/77 - Training Loss:  0.025  - Validation loss:  0.042\n",
      "Epoch  42/60 Batch    0/77 - Training Loss:  0.033  - Validation loss:  0.065\n",
      "Epoch  42/60 Batch   50/77 - Training Loss:  0.028  - Validation loss:  0.041\n",
      "Epoch  43/60 Batch    0/77 - Training Loss:  0.027  - Validation loss:  0.065\n",
      "Epoch  43/60 Batch   50/77 - Training Loss:  0.022  - Validation loss:  0.039\n",
      "Epoch  44/60 Batch    0/77 - Training Loss:  0.023  - Validation loss:  0.042\n",
      "Epoch  44/60 Batch   50/77 - Training Loss:  0.023  - Validation loss:  0.045\n",
      "Epoch  45/60 Batch    0/77 - Training Loss:  0.029  - Validation loss:  0.047\n",
      "Epoch  45/60 Batch   50/77 - Training Loss:  0.032  - Validation loss:  0.062\n",
      "Epoch  46/60 Batch    0/77 - Training Loss:  0.017  - Validation loss:  0.045\n",
      "Epoch  46/60 Batch   50/77 - Training Loss:  0.046  - Validation loss:  0.045\n",
      "Epoch  47/60 Batch    0/77 - Training Loss:  0.024  - Validation loss:  0.043\n",
      "Epoch  47/60 Batch   50/77 - Training Loss:  0.023  - Validation loss:  0.040\n",
      "Epoch  48/60 Batch    0/77 - Training Loss:  0.017  - Validation loss:  0.044\n",
      "Epoch  48/60 Batch   50/77 - Training Loss:  0.023  - Validation loss:  0.034\n",
      "Epoch  49/60 Batch    0/77 - Training Loss:  0.014  - Validation loss:  0.045\n",
      "Epoch  49/60 Batch   50/77 - Training Loss:  0.020  - Validation loss:  0.034\n",
      "Epoch  50/60 Batch    0/77 - Training Loss:  0.013  - Validation loss:  0.041\n",
      "Epoch  50/60 Batch   50/77 - Training Loss:  0.021  - Validation loss:  0.031\n",
      "Epoch  51/60 Batch    0/77 - Training Loss:  0.011  - Validation loss:  0.036\n",
      "Epoch  51/60 Batch   50/77 - Training Loss:  0.019  - Validation loss:  0.034\n",
      "Epoch  52/60 Batch    0/77 - Training Loss:  0.011  - Validation loss:  0.035\n",
      "Epoch  52/60 Batch   50/77 - Training Loss:  0.021  - Validation loss:  0.030\n",
      "Epoch  53/60 Batch    0/77 - Training Loss:  0.011  - Validation loss:  0.030\n",
      "Epoch  53/60 Batch   50/77 - Training Loss:  0.015  - Validation loss:  0.037\n"
     ]
    },
    {
     "name": "stdout",
     "output_type": "stream",
     "text": [
      "Epoch  54/60 Batch    0/77 - Training Loss:  0.012  - Validation loss:  0.028\n",
      "Epoch  54/60 Batch   50/77 - Training Loss:  0.013  - Validation loss:  0.031\n",
      "Epoch  55/60 Batch    0/77 - Training Loss:  0.010  - Validation loss:  0.024\n",
      "Epoch  55/60 Batch   50/77 - Training Loss:  0.024  - Validation loss:  0.029\n",
      "Epoch  56/60 Batch    0/77 - Training Loss:  0.011  - Validation loss:  0.040\n",
      "Epoch  56/60 Batch   50/77 - Training Loss:  0.012  - Validation loss:  0.033\n",
      "Epoch  57/60 Batch    0/77 - Training Loss:  0.008  - Validation loss:  0.024\n",
      "Epoch  57/60 Batch   50/77 - Training Loss:  0.015  - Validation loss:  0.029\n",
      "Epoch  58/60 Batch    0/77 - Training Loss:  0.012  - Validation loss:  0.026\n",
      "Epoch  58/60 Batch   50/77 - Training Loss:  0.010  - Validation loss:  0.021\n",
      "Epoch  59/60 Batch    0/77 - Training Loss:  0.008  - Validation loss:  0.023\n",
      "Epoch  59/60 Batch   50/77 - Training Loss:  0.011  - Validation loss:  0.024\n",
      "Epoch  60/60 Batch    0/77 - Training Loss:  0.006  - Validation loss:  0.024\n",
      "Epoch  60/60 Batch   50/77 - Training Loss:  0.011  - Validation loss:  0.018\n"
     ]
    },
    {
     "data": {
      "text/plain": [
       "'../model/train_model.ckpt'"
      ]
     },
     "execution_count": 102,
     "metadata": {},
     "output_type": "execute_result"
    }
   ],
   "source": [
    "train_source = source_int[batch_size:]\n",
    "train_target = target_int[batch_size:]\n",
    "\n",
    "valid_source = source_int[:batch_size]\n",
    "valid_target = target_int[:batch_size]\n",
    "(valid_targets_batch, valid_sources_batch, valid_targets_lengths, valid_sources_lengths) = next(\n",
    "    get_batches(valid_target, valid_source, batch_size,source_character_to_int['<PAD>'],\n",
    "                target_character_to_int['<PAD>']))\n",
    "display_step = 50\n",
    "checkpoint = '../model/train_model.ckpt'\n",
    "with tf.Session(graph=training_graph) as sess:\n",
    "    sess.run(tf.global_variables_initializer())\n",
    "    for epoch_i in range(1, epochs+1):\n",
    "        for batch_i, (target_batch, source_batch, target_length, source_length) in enumerate(\n",
    "            1, get_batches(train_target, train_source, batch_size, source_character_to_int['<PAD>'], \n",
    "                        target_character_to_int['<PAD>'])):\n",
    "            _, loss = sess.run([training_op, cost], feed_dict={\n",
    "                inputs_data:source_batch,\n",
    "                targets:target_batch,\n",
    "                lr:learning_rate,\n",
    "                target_sequence_length:target_length,\n",
    "                source_sequence_length:source_length,\n",
    "            })\n",
    "            if batch_i % display_step == 0:\n",
    "                valid_loss = sess.run([cost], feed_dict={\n",
    "                    inputs_data:valid_sources_batch,\n",
    "                    targets:valid_targets_batch,\n",
    "                    lr:learning_rate,\n",
    "                    target_sequence_length:valid_targets_lengths,\n",
    "                    source_sequence_length:valid_sources_lengths\n",
    "                })\n",
    "                print('Epoch {:>3}/{} Batch {:>4}/{} - Training Loss: {:>6.3f}  - Validation loss: {:>6.3f}'\n",
    "                      .format(epoch_i,\n",
    "                              epochs, \n",
    "                              batch_i, \n",
    "                              len(train_source) // batch_size, \n",
    "                              loss, \n",
    "                              valid_loss[0]))\n",
    "    saver = tf.train.Saver()\n",
    "    saver.save(sess, checkpoint)\n",
    "    \n",
    "    "
   ]
  },
  {
   "cell_type": "code",
   "execution_count": 105,
   "metadata": {},
   "outputs": [],
   "source": [
    "def source_to_seq(text):\n",
    "    '''\n",
    "    对源数据进行转换\n",
    "    '''\n",
    "    sequence_length = 7\n",
    "    return [source_character_to_int.get(word, source_character_to_int['<UNK>']) for word in text] + [\n",
    "        source_character_to_int['<PAD>']]*(sequence_length-len(text))"
   ]
  },
  {
   "cell_type": "code",
   "execution_count": 106,
   "metadata": {},
   "outputs": [
    {
     "ename": "OSError",
     "evalue": "File ../model/trained_model.ckpt.meta does not exist.",
     "output_type": "error",
     "traceback": [
      "\u001b[0;31m---------------------------------------------------------------------------\u001b[0m",
      "\u001b[0;31mOSError\u001b[0m                                   Traceback (most recent call last)",
      "\u001b[0;32m<ipython-input-106-cee925363d5c>\u001b[0m in \u001b[0;36m<module>\u001b[0;34m()\u001b[0m\n\u001b[1;32m      8\u001b[0m \u001b[0;32mwith\u001b[0m \u001b[0mtf\u001b[0m\u001b[0;34m.\u001b[0m\u001b[0mSession\u001b[0m\u001b[0;34m(\u001b[0m\u001b[0mgraph\u001b[0m\u001b[0;34m=\u001b[0m\u001b[0mloaded_graph\u001b[0m\u001b[0;34m)\u001b[0m \u001b[0;32mas\u001b[0m \u001b[0msess\u001b[0m\u001b[0;34m:\u001b[0m\u001b[0;34m\u001b[0m\u001b[0m\n\u001b[1;32m      9\u001b[0m     \u001b[0;31m# 加载模型\u001b[0m\u001b[0;34m\u001b[0m\u001b[0;34m\u001b[0m\u001b[0m\n\u001b[0;32m---> 10\u001b[0;31m     \u001b[0mloader\u001b[0m \u001b[0;34m=\u001b[0m \u001b[0mtf\u001b[0m\u001b[0;34m.\u001b[0m\u001b[0mtrain\u001b[0m\u001b[0;34m.\u001b[0m\u001b[0mimport_meta_graph\u001b[0m\u001b[0;34m(\u001b[0m\u001b[0mcheckpoint\u001b[0m \u001b[0;34m+\u001b[0m \u001b[0;34m'.meta'\u001b[0m\u001b[0;34m)\u001b[0m\u001b[0;34m\u001b[0m\u001b[0m\n\u001b[0m\u001b[1;32m     11\u001b[0m     \u001b[0mloader\u001b[0m\u001b[0;34m.\u001b[0m\u001b[0mrestore\u001b[0m\u001b[0;34m(\u001b[0m\u001b[0msess\u001b[0m\u001b[0;34m,\u001b[0m \u001b[0mcheckpoint\u001b[0m\u001b[0;34m)\u001b[0m\u001b[0;34m\u001b[0m\u001b[0m\n\u001b[1;32m     12\u001b[0m \u001b[0;34m\u001b[0m\u001b[0m\n",
      "\u001b[0;32m~/anaconda3/lib/python3.6/site-packages/tensorflow/python/training/saver.py\u001b[0m in \u001b[0;36mimport_meta_graph\u001b[0;34m(meta_graph_or_file, clear_devices, import_scope, **kwargs)\u001b[0m\n\u001b[1;32m   1900\u001b[0m                        \"execution is enabled.\")\n\u001b[1;32m   1901\u001b[0m   \u001b[0;32mif\u001b[0m \u001b[0;32mnot\u001b[0m \u001b[0misinstance\u001b[0m\u001b[0;34m(\u001b[0m\u001b[0mmeta_graph_or_file\u001b[0m\u001b[0;34m,\u001b[0m \u001b[0mmeta_graph_pb2\u001b[0m\u001b[0;34m.\u001b[0m\u001b[0mMetaGraphDef\u001b[0m\u001b[0;34m)\u001b[0m\u001b[0;34m:\u001b[0m\u001b[0;34m\u001b[0m\u001b[0m\n\u001b[0;32m-> 1902\u001b[0;31m     \u001b[0mmeta_graph_def\u001b[0m \u001b[0;34m=\u001b[0m \u001b[0mmeta_graph\u001b[0m\u001b[0;34m.\u001b[0m\u001b[0mread_meta_graph_file\u001b[0m\u001b[0;34m(\u001b[0m\u001b[0mmeta_graph_or_file\u001b[0m\u001b[0;34m)\u001b[0m\u001b[0;34m\u001b[0m\u001b[0m\n\u001b[0m\u001b[1;32m   1903\u001b[0m   \u001b[0;32melse\u001b[0m\u001b[0;34m:\u001b[0m\u001b[0;34m\u001b[0m\u001b[0m\n\u001b[1;32m   1904\u001b[0m     \u001b[0mmeta_graph_def\u001b[0m \u001b[0;34m=\u001b[0m \u001b[0mmeta_graph_or_file\u001b[0m\u001b[0;34m\u001b[0m\u001b[0m\n",
      "\u001b[0;32m~/anaconda3/lib/python3.6/site-packages/tensorflow/python/framework/meta_graph.py\u001b[0m in \u001b[0;36mread_meta_graph_file\u001b[0;34m(filename)\u001b[0m\n\u001b[1;32m    626\u001b[0m   \u001b[0mmeta_graph_def\u001b[0m \u001b[0;34m=\u001b[0m \u001b[0mmeta_graph_pb2\u001b[0m\u001b[0;34m.\u001b[0m\u001b[0mMetaGraphDef\u001b[0m\u001b[0;34m(\u001b[0m\u001b[0;34m)\u001b[0m\u001b[0;34m\u001b[0m\u001b[0m\n\u001b[1;32m    627\u001b[0m   \u001b[0;32mif\u001b[0m \u001b[0;32mnot\u001b[0m \u001b[0mfile_io\u001b[0m\u001b[0;34m.\u001b[0m\u001b[0mfile_exists\u001b[0m\u001b[0;34m(\u001b[0m\u001b[0mfilename\u001b[0m\u001b[0;34m)\u001b[0m\u001b[0;34m:\u001b[0m\u001b[0;34m\u001b[0m\u001b[0m\n\u001b[0;32m--> 628\u001b[0;31m     \u001b[0;32mraise\u001b[0m \u001b[0mIOError\u001b[0m\u001b[0;34m(\u001b[0m\u001b[0;34m\"File %s does not exist.\"\u001b[0m \u001b[0;34m%\u001b[0m \u001b[0mfilename\u001b[0m\u001b[0;34m)\u001b[0m\u001b[0;34m\u001b[0m\u001b[0m\n\u001b[0m\u001b[1;32m    629\u001b[0m   \u001b[0;31m# First try to read it as a binary file.\u001b[0m\u001b[0;34m\u001b[0m\u001b[0;34m\u001b[0m\u001b[0m\n\u001b[1;32m    630\u001b[0m   \u001b[0mfile_content\u001b[0m \u001b[0;34m=\u001b[0m \u001b[0mfile_io\u001b[0m\u001b[0;34m.\u001b[0m\u001b[0mFileIO\u001b[0m\u001b[0;34m(\u001b[0m\u001b[0mfilename\u001b[0m\u001b[0;34m,\u001b[0m \u001b[0;34m\"rb\"\u001b[0m\u001b[0;34m)\u001b[0m\u001b[0;34m.\u001b[0m\u001b[0mread\u001b[0m\u001b[0;34m(\u001b[0m\u001b[0;34m)\u001b[0m\u001b[0;34m\u001b[0m\u001b[0m\n",
      "\u001b[0;31mOSError\u001b[0m: File ../model/trained_model.ckpt.meta does not exist."
     ]
    }
   ],
   "source": [
    "# 输入一个单词\n",
    "input_word = 'common'\n",
    "text = source_to_seq(input_word)\n",
    "\n",
    "checkpoint = \"../model/trained_model.ckpt\"\n",
    "\n",
    "loaded_graph = tf.Graph()\n",
    "with tf.Session(graph=loaded_graph) as sess:\n",
    "    # 加载模型\n",
    "    loader = tf.train.import_meta_graph(checkpoint + '.meta')\n",
    "    loader.restore(sess, checkpoint)\n",
    "\n",
    "    input_data = loaded_graph.get_tensor_by_name('inputs:0')\n",
    "    logits = loaded_graph.get_tensor_by_name('predictions:0')\n",
    "    source_sequence_length = loaded_graph.get_tensor_by_name('source_sequence_length:0')\n",
    "    target_sequence_length = loaded_graph.get_tensor_by_name('target_sequence_length:0')\n",
    "    \n",
    "    answer_logits = sess.run(logits, {input_data: [text]*batch_size, \n",
    "                                      target_sequence_length: [len(input_word)]*batch_size, \n",
    "                                      source_sequence_length: [len(input_word)]*batch_size})[0] \n",
    "\n",
    "\n",
    "pad = source_letter_to_int[\"<PAD>\"] \n",
    "\n",
    "print('原始输入:', input_word)\n",
    "\n",
    "print('\\nSource')\n",
    "print('  Word 编号:    {}'.format([i for i in text]))\n",
    "print('  Input Words: {}'.format(\" \".join([source_character_to_int[i] for i in text])))\n",
    "\n",
    "print('\\nTarget')\n",
    "print('  Word 编号:       {}'.format([i for i in answer_logits if i != pad]))\n",
    "print('  Response Words: {}'.format(\" \".join([target_int_to_character[i] for i in answer_logits if i != pad])))"
   ]
  },
  {
   "cell_type": "code",
   "execution_count": null,
   "metadata": {},
   "outputs": [],
   "source": []
  }
 ],
 "metadata": {
  "kernelspec": {
   "display_name": "Python 3",
   "language": "python",
   "name": "python3"
  },
  "language_info": {
   "codemirror_mode": {
    "name": "ipython",
    "version": 3
   },
   "file_extension": ".py",
   "mimetype": "text/x-python",
   "name": "python",
   "nbconvert_exporter": "python",
   "pygments_lexer": "ipython3",
   "version": "3.6.5"
  }
 },
 "nbformat": 4,
 "nbformat_minor": 2
}
